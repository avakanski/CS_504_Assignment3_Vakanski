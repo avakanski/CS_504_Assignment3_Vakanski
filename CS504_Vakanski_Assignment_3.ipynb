{
  "nbformat": 4,
  "nbformat_minor": 0,
  "metadata": {
    "colab": {
      "provenance": [],
      "collapsed_sections": [
        "zpFxsgGk5_x_",
        "sORSEAsk6PJL"
      ],
      "authorship_tag": "ABX9TyMWX+bMWSG0sMrckOGEkTMM",
      "include_colab_link": true
    },
    "kernelspec": {
      "name": "python3",
      "display_name": "Python 3"
    },
    "language_info": {
      "name": "python"
    }
  },
  "cells": [
    {
      "cell_type": "markdown",
      "metadata": {
        "id": "view-in-github",
        "colab_type": "text"
      },
      "source": [
        "<a href=\"https://colab.research.google.com/github/jstarace/CS_504_Assignment3_Vakanski/blob/main/CS504_Vakanski_Assignment_3.ipynb\" target=\"_parent\"><img src=\"https://colab.research.google.com/assets/colab-badge.svg\" alt=\"Open In Colab\"/></a>"
      ]
    },
    {
      "cell_type": "markdown",
      "source": [
        "## Introduction"
      ],
      "metadata": {
        "id": "7FGJ0Ou3577l"
      }
    },
    {
      "cell_type": "markdown",
      "source": [
        "### The following is a complete walk-through of Assignment #3 for CS 504: ST Adversarial Machine Learning, taught by Dr. Vakanski at the University of Idaho in the Spring of 2023.  The assignment is being made available to assist in the understanding of future related assignments at the request of Dr. Vakanski."
      ],
      "metadata": {
        "id": "iKQu5ga14pH0"
      }
    },
    {
      "cell_type": "markdown",
      "source": [
        "### The assignment is broken down into 2 parts.\n",
        "1. Adversarial Traning defense against evasion attacks\n",
        "1. Poisoning attacks against deep learning classification models\n",
        "\n",
        "For this assignment I used Google Colab for the training of the models and completion of the assignment.  It is recommend that the same or similar is used."
      ],
      "metadata": {
        "id": "VCXqDS025Q7r"
      }
    },
    {
      "cell_type": "markdown",
      "source": [
        "# Notebook Setup"
      ],
      "metadata": {
        "id": "XwxhxH6T6Y6j"
      }
    },
    {
      "cell_type": "markdown",
      "source": [
        "## Setup and Configuration\n",
        "\n",
        "Before diving into the assignment we want to make sure our environment has all the necessary libraries and connections"
      ],
      "metadata": {
        "id": "BB_vMXyN6cXK"
      }
    },
    {
      "cell_type": "code",
      "source": [
        "# Connect to Google Drive.\n",
        "# All images required for the assignment were either provided by Dr. Vakanski or were publicly available\n",
        "# Images were loaded onto google drive for ease of access\n",
        "\n",
        "from google.colab import drive\n",
        "drive.mount('/content/drive')"
      ],
      "metadata": {
        "colab": {
          "base_uri": "https://localhost:8080/"
        },
        "id": "uyw2vHOP6738",
        "outputId": "e62e70eb-bd84-40ae-80a7-2e47d8d9fd7d"
      },
      "execution_count": 4,
      "outputs": [
        {
          "output_type": "stream",
          "name": "stdout",
          "text": [
            "Mounted at /content/drive\n"
          ]
        }
      ]
    },
    {
      "cell_type": "code",
      "source": [
        "# Install the adversarial robustness toolbox so that we can work with adversarial models\n",
        "!pip install adversarial-robustness-toolbox"
      ],
      "metadata": {
        "colab": {
          "base_uri": "https://localhost:8080/"
        },
        "id": "GopOSkwF7mXL",
        "outputId": "fec0faec-e89a-4b07-812d-9aae8b375489"
      },
      "execution_count": 5,
      "outputs": [
        {
          "output_type": "stream",
          "name": "stdout",
          "text": [
            "Looking in indexes: https://pypi.org/simple, https://us-python.pkg.dev/colab-wheels/public/simple/\n",
            "Collecting adversarial-robustness-toolbox\n",
            "  Downloading adversarial_robustness_toolbox-1.14.1-py3-none-any.whl (1.5 MB)\n",
            "\u001b[2K     \u001b[90m━━━━━━━━━━━━━━━━━━━━━━━━━━━━━━━━━━━━━━━━\u001b[0m \u001b[32m1.5/1.5 MB\u001b[0m \u001b[31m28.0 MB/s\u001b[0m eta \u001b[36m0:00:00\u001b[0m\n",
            "\u001b[?25hCollecting scikit-learn<1.2.0,>=0.22.2\n",
            "  Downloading scikit_learn-1.1.3-cp310-cp310-manylinux_2_17_x86_64.manylinux2014_x86_64.whl (30.5 MB)\n",
            "\u001b[2K     \u001b[90m━━━━━━━━━━━━━━━━━━━━━━━━━━━━━━━━━━━━━━━━\u001b[0m \u001b[32m30.5/30.5 MB\u001b[0m \u001b[31m34.8 MB/s\u001b[0m eta \u001b[36m0:00:00\u001b[0m\n",
            "\u001b[?25hRequirement already satisfied: setuptools in /usr/local/lib/python3.10/dist-packages (from adversarial-robustness-toolbox) (67.7.2)\n",
            "Requirement already satisfied: scipy>=1.4.1 in /usr/local/lib/python3.10/dist-packages (from adversarial-robustness-toolbox) (1.10.1)\n",
            "Requirement already satisfied: six in /usr/local/lib/python3.10/dist-packages (from adversarial-robustness-toolbox) (1.16.0)\n",
            "Requirement already satisfied: tqdm in /usr/local/lib/python3.10/dist-packages (from adversarial-robustness-toolbox) (4.65.0)\n",
            "Requirement already satisfied: numpy>=1.18.0 in /usr/local/lib/python3.10/dist-packages (from adversarial-robustness-toolbox) (1.22.4)\n",
            "Requirement already satisfied: joblib>=1.0.0 in /usr/local/lib/python3.10/dist-packages (from scikit-learn<1.2.0,>=0.22.2->adversarial-robustness-toolbox) (1.2.0)\n",
            "Requirement already satisfied: threadpoolctl>=2.0.0 in /usr/local/lib/python3.10/dist-packages (from scikit-learn<1.2.0,>=0.22.2->adversarial-robustness-toolbox) (3.1.0)\n",
            "Installing collected packages: scikit-learn, adversarial-robustness-toolbox\n",
            "  Attempting uninstall: scikit-learn\n",
            "    Found existing installation: scikit-learn 1.2.2\n",
            "    Uninstalling scikit-learn-1.2.2:\n",
            "      Successfully uninstalled scikit-learn-1.2.2\n",
            "Successfully installed adversarial-robustness-toolbox-1.14.1 scikit-learn-1.1.3\n"
          ]
        }
      ]
    },
    {
      "cell_type": "markdown",
      "source": [
        "### Imports"
      ],
      "metadata": {
        "id": "Q7QVvtLT8AmM"
      }
    },
    {
      "cell_type": "code",
      "source": [
        "# Import the following libraries\n",
        "\n",
        "import os\n",
        "import cv2\n",
        "import sys\n",
        "import keras\n",
        "import random\n",
        "import imageio\n",
        "import tarfile\n",
        "import natsort\n",
        "import warnings\n",
        "import numpy as np\n",
        "import tensorflow as tf\n",
        "import keras.backend as k\n",
        "import matplotlib.pyplot as plt"
      ],
      "metadata": {
        "id": "dSAySjDI76sw"
      },
      "execution_count": 6,
      "outputs": []
    },
    {
      "cell_type": "code",
      "source": [
        "# From installed and available libraries import these specific classes\n",
        "\n",
        "from os import listdir\n",
        "\n",
        "from keras.models import Model\n",
        "from keras.preprocessing import image\n",
        "from keras.layers import Dense, Flatten\n",
        "from keras.callbacks import ModelCheckpoint, EarlyStopping \n",
        "from keras.applications.imagenet_utils import preprocess_input\n",
        "\n",
        "from tensorflow import keras\n",
        "from tensorflow.keras import layers\n",
        "from tensorflow.keras import regularizers\n",
        "from tensorflow.keras.models import Sequential\n",
        "from tensorflow.tools.docs.doc_controls import T\n",
        "from tensorflow.keras.utils import to_categorical\n",
        "from tensorflow.python.ops.math_ops import TruncateDiv\n",
        "from tensorflow.keras.callbacks import ReduceLROnPlateau\n",
        "from tensorflow.keras.callbacks import LearningRateScheduler\n",
        "from tensorflow.keras.layers import Dense, Dropout, Activation, Flatten, BatchNormalization, GlobalAveragePooling2D\n",
        "\n",
        "from art.estimators.classification import KerasClassifier\n",
        "from art.estimators.classification import SklearnClassifier\n",
        "\n",
        "from art.attacks.evasion import BoundaryAttack\n",
        "from art.attacks.evasion import FastGradientMethod,ProjectedGradientDescent,DeepFool\n",
        "from art.utils import to_categorical\n",
        "\n",
        "from skimage.util import compare_images\n",
        "from IPython.display import clear_output\n",
        "from matplotlib.gridspec import GridSpec\n",
        "from skimage import data, transform, exposure\n",
        "\n",
        "from sklearn.preprocessing import LabelEncoder\n",
        "from sklearn.model_selection import train_test_split\n",
        "from sklearn.metrics import confusion_matrix\n",
        "from sklearn.metrics import ConfusionMatrixDisplay"
      ],
      "metadata": {
        "id": "QLo1pKO-8MGe"
      },
      "execution_count": 7,
      "outputs": []
    },
    {
      "cell_type": "code",
      "source": [
        "# This line is important, without it the attacks in the ART toolbox won't work\n",
        "# And it needs to be run before training the models\n",
        "tf.compat.v1.disable_eager_execution()\n",
        "\n",
        "# Supress warnings\n",
        "warnings.filterwarnings('ignore')"
      ],
      "metadata": {
        "id": "B6EctZ2H8gvg"
      },
      "execution_count": 8,
      "outputs": []
    },
    {
      "cell_type": "code",
      "source": [
        "# Print the version of tensorflow and keras\n",
        "print(\"TensorFlow version:{}\".format(tf.__version__))\n",
        "print(\"Keras version:{}\".format(keras.__version__))"
      ],
      "metadata": {
        "colab": {
          "base_uri": "https://localhost:8080/"
        },
        "id": "lHjpgYCZ8y-P",
        "outputId": "c5e1f999-5ea1-4d64-c9cb-c009c993087f"
      },
      "execution_count": 9,
      "outputs": [
        {
          "output_type": "stream",
          "name": "stdout",
          "text": [
            "TensorFlow version:2.12.0\n",
            "Keras version:2.12.0\n"
          ]
        }
      ]
    },
    {
      "cell_type": "markdown",
      "source": [
        "# Part 1"
      ],
      "metadata": {
        "id": "zpFxsgGk5_x_"
      }
    },
    {
      "cell_type": "markdown",
      "source": [
        "## Section 1"
      ],
      "metadata": {
        "id": "atQMw5CN6D68"
      }
    },
    {
      "cell_type": "markdown",
      "source": [
        "## Section 2"
      ],
      "metadata": {
        "id": "7SBsECjb6DsQ"
      }
    },
    {
      "cell_type": "markdown",
      "source": [
        "## Section 3"
      ],
      "metadata": {
        "id": "T-O6BF3f6Dce"
      }
    },
    {
      "cell_type": "markdown",
      "source": [
        "## Section 4"
      ],
      "metadata": {
        "id": "YXf4l_6w6DNu"
      }
    },
    {
      "cell_type": "markdown",
      "source": [
        "## Section 5"
      ],
      "metadata": {
        "id": "-VNG1VX36DAn"
      }
    },
    {
      "cell_type": "markdown",
      "source": [
        "# Part 2"
      ],
      "metadata": {
        "id": "sORSEAsk6PJL"
      }
    },
    {
      "cell_type": "code",
      "source": [],
      "metadata": {
        "id": "6AqWUgrJ6Bjf"
      },
      "execution_count": null,
      "outputs": []
    }
  ]
}